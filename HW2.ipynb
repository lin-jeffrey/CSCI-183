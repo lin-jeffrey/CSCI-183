{
 "cells": [
  {
   "cell_type": "markdown",
   "metadata": {},
   "source": [
    "## Homework 2\n",
    "*For any questions or concerns please email your instructor at `smanna@scu.edu`*\n",
    "### Due - 02/07/2020 - 11:59p - 20 points\n",
    "\n",
    "**Name:** `<Jeffrey Lin>`\n",
    "\n",
    "**Email** `<jlin7@scu.edu>`\n",
    "\n",
    "**Objectives:** The main aim of this homework is to make you analyze real-life data through `Exploratory Data Analysis`.\n",
    "\n",
    "**Problem Statement** - In this homework we have used data from [THE STANFORD OPEN POLICING PROJECT](https://openpolicing.stanford.edu/) as our dataset for the city SFO (`sfo.csv`). This dataset is very close to the one we have used in class. Your task is to understand the dataset and answer the questions with respect to the dataset.\n",
    "\n",
    "*NOTE* - Solutions might exist on web, but you are NOT allowed to replicate them. Please feel free to use the *w4-EDA-policingData-Vermont.ipynb* as a reference to work on this homework.\n",
    "\n",
    "**Submission Instructions:** \n",
    "* Please download `HW2.ipynb`, and `sfo.csv` files and insert cells in the `HW2.ipynb` to complete your homework and submit the same file to Camino under `Homework` $\\rightarrow$ `HW2`.\n",
    "\n",
    "**Honor Code:** You are expected to complete the homework on your own. Solutions might exist elsewhere, but you are not allowed to copy them. "
   ]
  },
  {
   "cell_type": "markdown",
   "metadata": {},
   "source": [
    "### You have to write two common function, that coude be used by both the datasets for analysis. "
   ]
  },
  {
   "cell_type": "code",
   "execution_count": 15,
   "metadata": {},
   "outputs": [],
   "source": [
    "# importing libraries\n",
    "import pandas as pd\n",
    "import numpy as np\n",
    "import matplotlib.pyplot as plt\n",
    "%matplotlib inline\n",
    "figsize = (16,8)\n"
   ]
  },
  {
   "cell_type": "markdown",
   "metadata": {},
   "source": [
    "## Analysis of SFO dataset"
   ]
  },
  {
   "cell_type": "markdown",
   "metadata": {},
   "source": [
    "### Question 1 (3 pts)"
   ]
  },
  {
   "cell_type": "code",
   "execution_count": 16,
   "metadata": {},
   "outputs": [],
   "source": [
    "# load the dataset sfo.csv\n",
    "sfo = pd.read_csv(\"sfo.csv\")"
   ]
  },
  {
   "cell_type": "code",
   "execution_count": 17,
   "metadata": {
    "scrolled": false
   },
   "outputs": [
    {
     "data": {
      "text/html": [
       "<div>\n",
       "<style scoped>\n",
       "    .dataframe tbody tr th:only-of-type {\n",
       "        vertical-align: middle;\n",
       "    }\n",
       "\n",
       "    .dataframe tbody tr th {\n",
       "        vertical-align: top;\n",
       "    }\n",
       "\n",
       "    .dataframe thead th {\n",
       "        text-align: right;\n",
       "    }\n",
       "</style>\n",
       "<table border=\"1\" class=\"dataframe\">\n",
       "  <thead>\n",
       "    <tr style=\"text-align: right;\">\n",
       "      <th></th>\n",
       "      <th>raw_row_number</th>\n",
       "      <th>date</th>\n",
       "      <th>time</th>\n",
       "      <th>location</th>\n",
       "      <th>lat</th>\n",
       "      <th>lng</th>\n",
       "      <th>district</th>\n",
       "      <th>subject_age</th>\n",
       "      <th>subject_race</th>\n",
       "      <th>subject_sex</th>\n",
       "      <th>...</th>\n",
       "      <th>citation_issued</th>\n",
       "      <th>warning_issued</th>\n",
       "      <th>outcome</th>\n",
       "      <th>contraband_found</th>\n",
       "      <th>search_conducted</th>\n",
       "      <th>search_vehicle</th>\n",
       "      <th>search_basis</th>\n",
       "      <th>reason_for_stop</th>\n",
       "      <th>raw_search_vehicle_description</th>\n",
       "      <th>raw_result_of_contact_description</th>\n",
       "    </tr>\n",
       "  </thead>\n",
       "  <tbody>\n",
       "    <tr>\n",
       "      <th>0</th>\n",
       "      <td>869921</td>\n",
       "      <td>2014-08-01</td>\n",
       "      <td>00:01:00</td>\n",
       "      <td>MASONIC AV &amp; FELL ST</td>\n",
       "      <td>37.773004</td>\n",
       "      <td>-122.445873</td>\n",
       "      <td>NaN</td>\n",
       "      <td>NaN</td>\n",
       "      <td>asian/pacific islander</td>\n",
       "      <td>female</td>\n",
       "      <td>...</td>\n",
       "      <td>False</td>\n",
       "      <td>True</td>\n",
       "      <td>warning</td>\n",
       "      <td>NaN</td>\n",
       "      <td>False</td>\n",
       "      <td>False</td>\n",
       "      <td>NaN</td>\n",
       "      <td>Mechanical or Non-Moving Violation (V.C.)</td>\n",
       "      <td>No Search</td>\n",
       "      <td>Warning</td>\n",
       "    </tr>\n",
       "    <tr>\n",
       "      <th>1</th>\n",
       "      <td>869922</td>\n",
       "      <td>2014-08-01</td>\n",
       "      <td>00:01:00</td>\n",
       "      <td>GEARY&amp;10TH AV</td>\n",
       "      <td>37.780898</td>\n",
       "      <td>-122.468586</td>\n",
       "      <td>NaN</td>\n",
       "      <td>NaN</td>\n",
       "      <td>black</td>\n",
       "      <td>male</td>\n",
       "      <td>...</td>\n",
       "      <td>True</td>\n",
       "      <td>False</td>\n",
       "      <td>citation</td>\n",
       "      <td>NaN</td>\n",
       "      <td>False</td>\n",
       "      <td>False</td>\n",
       "      <td>NaN</td>\n",
       "      <td>Mechanical or Non-Moving Violation (V.C.)</td>\n",
       "      <td>No Search</td>\n",
       "      <td>Citation</td>\n",
       "    </tr>\n",
       "    <tr>\n",
       "      <th>2</th>\n",
       "      <td>869923</td>\n",
       "      <td>2014-08-01</td>\n",
       "      <td>00:15:00</td>\n",
       "      <td>SUTTER N OCTAVIA ST</td>\n",
       "      <td>37.786919</td>\n",
       "      <td>-122.426718</td>\n",
       "      <td>NaN</td>\n",
       "      <td>NaN</td>\n",
       "      <td>hispanic</td>\n",
       "      <td>male</td>\n",
       "      <td>...</td>\n",
       "      <td>True</td>\n",
       "      <td>False</td>\n",
       "      <td>citation</td>\n",
       "      <td>NaN</td>\n",
       "      <td>False</td>\n",
       "      <td>False</td>\n",
       "      <td>NaN</td>\n",
       "      <td>Mechanical or Non-Moving Violation (V.C.)</td>\n",
       "      <td>No Search</td>\n",
       "      <td>Citation</td>\n",
       "    </tr>\n",
       "    <tr>\n",
       "      <th>3</th>\n",
       "      <td>869924</td>\n",
       "      <td>2014-08-01</td>\n",
       "      <td>00:18:00</td>\n",
       "      <td>3RD ST &amp; DAVIDSON</td>\n",
       "      <td>37.746380</td>\n",
       "      <td>-122.392005</td>\n",
       "      <td>NaN</td>\n",
       "      <td>NaN</td>\n",
       "      <td>hispanic</td>\n",
       "      <td>male</td>\n",
       "      <td>...</td>\n",
       "      <td>False</td>\n",
       "      <td>True</td>\n",
       "      <td>warning</td>\n",
       "      <td>NaN</td>\n",
       "      <td>False</td>\n",
       "      <td>False</td>\n",
       "      <td>NaN</td>\n",
       "      <td>Mechanical or Non-Moving Violation (V.C.)</td>\n",
       "      <td>No Search</td>\n",
       "      <td>Warning</td>\n",
       "    </tr>\n",
       "    <tr>\n",
       "      <th>4</th>\n",
       "      <td>869925</td>\n",
       "      <td>2014-08-01</td>\n",
       "      <td>00:19:00</td>\n",
       "      <td>DIVISADERO ST. &amp; BUSH ST.</td>\n",
       "      <td>37.786348</td>\n",
       "      <td>-122.440003</td>\n",
       "      <td>NaN</td>\n",
       "      <td>NaN</td>\n",
       "      <td>white</td>\n",
       "      <td>male</td>\n",
       "      <td>...</td>\n",
       "      <td>True</td>\n",
       "      <td>False</td>\n",
       "      <td>citation</td>\n",
       "      <td>NaN</td>\n",
       "      <td>False</td>\n",
       "      <td>False</td>\n",
       "      <td>NaN</td>\n",
       "      <td>Mechanical or Non-Moving Violation (V.C.)</td>\n",
       "      <td>No Search</td>\n",
       "      <td>Citation</td>\n",
       "    </tr>\n",
       "  </tbody>\n",
       "</table>\n",
       "<p>5 rows × 22 columns</p>\n",
       "</div>"
      ],
      "text/plain": [
       "  raw_row_number        date      time                   location        lat  \\\n",
       "0         869921  2014-08-01  00:01:00       MASONIC AV & FELL ST  37.773004   \n",
       "1         869922  2014-08-01  00:01:00              GEARY&10TH AV  37.780898   \n",
       "2         869923  2014-08-01  00:15:00        SUTTER N OCTAVIA ST  37.786919   \n",
       "3         869924  2014-08-01  00:18:00          3RD ST & DAVIDSON  37.746380   \n",
       "4         869925  2014-08-01  00:19:00  DIVISADERO ST. & BUSH ST.  37.786348   \n",
       "\n",
       "          lng district  subject_age            subject_race subject_sex  ...  \\\n",
       "0 -122.445873      NaN          NaN  asian/pacific islander      female  ...   \n",
       "1 -122.468586      NaN          NaN                   black        male  ...   \n",
       "2 -122.426718      NaN          NaN                hispanic        male  ...   \n",
       "3 -122.392005      NaN          NaN                hispanic        male  ...   \n",
       "4 -122.440003      NaN          NaN                   white        male  ...   \n",
       "\n",
       "  citation_issued  warning_issued   outcome  contraband_found  \\\n",
       "0           False            True   warning               NaN   \n",
       "1            True           False  citation               NaN   \n",
       "2            True           False  citation               NaN   \n",
       "3           False            True   warning               NaN   \n",
       "4            True           False  citation               NaN   \n",
       "\n",
       "  search_conducted search_vehicle  search_basis  \\\n",
       "0            False          False           NaN   \n",
       "1            False          False           NaN   \n",
       "2            False          False           NaN   \n",
       "3            False          False           NaN   \n",
       "4            False          False           NaN   \n",
       "\n",
       "                             reason_for_stop raw_search_vehicle_description  \\\n",
       "0  Mechanical or Non-Moving Violation (V.C.)                      No Search   \n",
       "1  Mechanical or Non-Moving Violation (V.C.)                      No Search   \n",
       "2  Mechanical or Non-Moving Violation (V.C.)                      No Search   \n",
       "3  Mechanical or Non-Moving Violation (V.C.)                      No Search   \n",
       "4  Mechanical or Non-Moving Violation (V.C.)                      No Search   \n",
       "\n",
       "  raw_result_of_contact_description  \n",
       "0                           Warning  \n",
       "1                          Citation  \n",
       "2                          Citation  \n",
       "3                           Warning  \n",
       "4                          Citation  \n",
       "\n",
       "[5 rows x 22 columns]"
      ]
     },
     "execution_count": 17,
     "metadata": {},
     "output_type": "execute_result"
    }
   ],
   "source": [
    "# view few rows of the dataset\n",
    "sfo.head()"
   ]
  },
  {
   "cell_type": "code",
   "execution_count": 18,
   "metadata": {},
   "outputs": [
    {
     "data": {
      "text/plain": [
       "['raw_row_number',\n",
       " 'date',\n",
       " 'time',\n",
       " 'location',\n",
       " 'lat',\n",
       " 'lng',\n",
       " 'district',\n",
       " 'subject_age',\n",
       " 'subject_race',\n",
       " 'subject_sex',\n",
       " 'type',\n",
       " 'arrest_made',\n",
       " 'citation_issued',\n",
       " 'warning_issued',\n",
       " 'outcome',\n",
       " 'contraband_found',\n",
       " 'search_conducted',\n",
       " 'search_vehicle',\n",
       " 'search_basis',\n",
       " 'reason_for_stop',\n",
       " 'raw_search_vehicle_description',\n",
       " 'raw_result_of_contact_description']"
      ]
     },
     "execution_count": 18,
     "metadata": {},
     "output_type": "execute_result"
    }
   ],
   "source": [
    "# view the columns\n",
    "sfo.columns.tolist()"
   ]
  },
  {
   "cell_type": "markdown",
   "metadata": {},
   "source": [
    "### Question 2 (7 pts)\n",
    "**NOTE**: Before answering the questions below, please make sure each column has the exact same number of entries. Please feel free to look at the sample code shown in class to get on this component. Make sure you show these steps by inserting additional cells in the space below."
   ]
  },
  {
   "cell_type": "code",
   "execution_count": 19,
   "metadata": {},
   "outputs": [
    {
     "data": {
      "text/plain": [
       "raw_row_number                       905070\n",
       "date                                 905070\n",
       "time                                 905035\n",
       "location                             905027\n",
       "lat                                  903373\n",
       "lng                                  903373\n",
       "district                             852883\n",
       "subject_age                          846182\n",
       "subject_race                         905070\n",
       "subject_sex                          905070\n",
       "type                                 905070\n",
       "arrest_made                          905070\n",
       "citation_issued                      905070\n",
       "warning_issued                       905070\n",
       "outcome                              889389\n",
       "contraband_found                      53381\n",
       "search_conducted                     905070\n",
       "search_vehicle                       905070\n",
       "search_basis                          53381\n",
       "reason_for_stop                      902858\n",
       "raw_search_vehicle_description       905070\n",
       "raw_result_of_contact_description    905070\n",
       "dtype: int64"
      ]
     },
     "execution_count": 19,
     "metadata": {},
     "output_type": "execute_result"
    }
   ],
   "source": [
    "#Seeing column count\n",
    "sfo.count()"
   ]
  },
  {
   "cell_type": "code",
   "execution_count": 20,
   "metadata": {},
   "outputs": [],
   "source": [
    "# Processing steps\n",
    "#we see that search_basis has the lowest amount of tuples so we fillna on search_basis\n",
    "sfo['search_basis'].fillna('N/A', inplace = True)\n",
    "sfo.dropna(inplace = True)"
   ]
  },
  {
   "cell_type": "code",
   "execution_count": 34,
   "metadata": {
    "scrolled": false
   },
   "outputs": [
    {
     "data": {
      "text/plain": [
       "raw_row_number                       41075\n",
       "date                                 41075\n",
       "time                                 41075\n",
       "location                             41075\n",
       "lat                                  41075\n",
       "lng                                  41075\n",
       "district                             41075\n",
       "subject_age                          41075\n",
       "subject_race                         41075\n",
       "subject_sex                          41075\n",
       "type                                 41075\n",
       "arrest_made                          41075\n",
       "citation_issued                      41075\n",
       "warning_issued                       41075\n",
       "outcome                              41075\n",
       "contraband_found                     41075\n",
       "search_conducted                     41075\n",
       "search_vehicle                       41075\n",
       "search_basis                         41075\n",
       "reason_for_stop                      41075\n",
       "raw_search_vehicle_description       41075\n",
       "raw_result_of_contact_description    41075\n",
       "dtype: int64"
      ]
     },
     "execution_count": 34,
     "metadata": {},
     "output_type": "execute_result"
    }
   ],
   "source": [
    "#we now check dataset to determine how consistently populated the data is\n",
    "sfo.count()"
   ]
  },
  {
   "cell_type": "code",
   "execution_count": 23,
   "metadata": {},
   "outputs": [
    {
     "data": {
      "text/plain": [
       "16TH/MISSION                        33\n",
       "TURK/TAYLOR                         30\n",
       "TURK ST & TAYLOR ST                 25\n",
       "NEWCOMB/NEWHALL                     23\n",
       "15TH/MISSION                        21\n",
       "TURK & TAYLOR                       20\n",
       "KEITH & THOMAS                      18\n",
       "BAYSHORE/OAKDALE                    18\n",
       "EDDY/MASON                          18\n",
       "3RD/JERROLD                         17\n",
       "TAYLOR/TURK                         17\n",
       "3RD/QUESADA                         17\n",
       "FITZGERALD/JENNINGS                 16\n",
       "3RD/MCKINNON                        16\n",
       "EDDY/TAYLOR                         16\n",
       "19TH ST & CAPP ST                   15\n",
       "3RD & REVERE                        15\n",
       "18TH/MISSION                        15\n",
       "3RD/NEWCOMB                         15\n",
       "3RD/REVERE                          15\n",
       "3350 MISSION ST                     15\n",
       "PALOU & NEWHALL                     15\n",
       "TURK/LEAVENWORTH                    14\n",
       "3RD & NEWCOMB                       14\n",
       "OAKDALE/NEWHALL                     14\n",
       "3RD/PALOU                           14\n",
       "JONES/GOLDEN GATE                   14\n",
       "BAYSHORE/CORTLAND                   14\n",
       "MISSION & SILVER                    14\n",
       "GOLDEN GATE/JONES                   13\n",
       "                                    ..\n",
       "FULTON ST AT 25TH ST                 1\n",
       "DRUMM/CLAY                           1\n",
       "MENDELL @ GALVEZ                     1\n",
       "2641 25TH ST & UTAH                  1\n",
       "21THST/SHOTWELL                      1\n",
       "520 SOUTH VAN NESS AVE               1\n",
       "N/B BAYSHORE AT OAKDALE              1\n",
       "600 SHRADER ST                       1\n",
       "265 EDDY                             1\n",
       "720 MOSCOW                           1\n",
       "TEXAS RD @ DAKOTA ST                 1\n",
       "EVANS AVE. & MIDDLE POINT STREET     1\n",
       "RANDOLPH & VICTORIA ST               1\n",
       "1412 CLEMENT ST                      1\n",
       "162 TURK                             1\n",
       "MADRID & ITALY                       1\n",
       "480 ALPA ST.                         1\n",
       "MONTGOMERY ST. & CALIFORNIA ST.      1\n",
       "CARRIZAL ST & PARQUE ST              1\n",
       "3RD ST & 25TH ST                     1\n",
       "2222 ALEMANY BLVD                    1\n",
       "30TH ST & MISSION STREET             1\n",
       "CA AND GRANT                         1\n",
       "275 BEACON ST.                       1\n",
       "JONES/ELLIS STREETS                  1\n",
       "MCKINNON AVE. & LANE ST.             1\n",
       "JUDAH ST. & 44TH AVE                 1\n",
       "MCALLISTER ST AT LEAVENWORTH ST      1\n",
       "3000 16TH ST                         1\n",
       "KEARNEY/SACRAMENTO                   1\n",
       "Name: location, Length: 30364, dtype: int64"
      ]
     },
     "execution_count": 23,
     "metadata": {},
     "output_type": "execute_result"
    }
   ],
   "source": [
    "## list of all locations, with how many traffic stops occurred\n",
    "sfo['location'].value_counts()"
   ]
  },
  {
   "cell_type": "code",
   "execution_count": 29,
   "metadata": {},
   "outputs": [
    {
     "data": {
      "text/plain": [
       "True     22459\n",
       "False    18616\n",
       "Name: citation_issued, dtype: int64"
      ]
     },
     "execution_count": 29,
     "metadata": {},
     "output_type": "execute_result"
    }
   ],
   "source": [
    "# Show the distribution of citation issued\n",
    "sfo['citation_issued'].value_counts()"
   ]
  },
  {
   "cell_type": "code",
   "execution_count": 31,
   "metadata": {},
   "outputs": [
    {
     "data": {
      "text/plain": [
       "citation    22453\n",
       "warning     12073\n",
       "arrest       6549\n",
       "Name: outcome, dtype: int64"
      ]
     },
     "execution_count": 31,
     "metadata": {},
     "output_type": "execute_result"
    }
   ],
   "source": [
    "# Show the distribution of stop outcomes\n",
    "sfo['outcome'].value_counts()"
   ]
  },
  {
   "cell_type": "code",
   "execution_count": 32,
   "metadata": {},
   "outputs": [
    {
     "data": {
      "text/plain": [
       "black                     18993\n",
       "white                      9248\n",
       "hispanic                   7760\n",
       "other                      2740\n",
       "asian/pacific islander     2334\n",
       "Name: subject_race, dtype: int64"
      ]
     },
     "execution_count": 32,
     "metadata": {},
     "output_type": "execute_result"
    }
   ],
   "source": [
    "# Show the distribution of stops by race\n",
    "sfo['subject_race'].value_counts()"
   ]
  },
  {
   "cell_type": "code",
   "execution_count": null,
   "metadata": {},
   "outputs": [],
   "source": [
    "# Show the distribution of stops by gender\n",
    "sfo['subject_sex'].value_counts()"
   ]
  },
  {
   "cell_type": "markdown",
   "metadata": {},
   "source": [
    "### Question 3 (5 pts)\n",
    "Generate Kernel Density Estimate plot using Gaussian kernels."
   ]
  },
  {
   "cell_type": "code",
   "execution_count": 33,
   "metadata": {},
   "outputs": [
    {
     "data": {
      "text/plain": [
       "<matplotlib.legend.Legend at 0x1243c9210>"
      ]
     },
     "execution_count": 33,
     "metadata": {},
     "output_type": "execute_result"
    },
    {
     "data": {
      "image/png": "[encoded data removed]",
      "text/plain": [
       "<Figure size 432x288 with 1 Axes>"
      ]
     },
     "metadata": {
      "needs_background": "light"
     },
     "output_type": "display_data"
    }
   ],
   "source": [
    "# plot police stop frequency by race and age\n",
    "fig, ax = plt.subplots()\n",
    "ax.set_xlim(15, 70)\n",
    "for race in sfo['subject_race'].unique(): # Return unique values of Series object.\n",
    "    s = sfo[sfo['subject_race'] == race]['subject_age']\n",
    "    s.plot.kde(ax=ax, label=race) # Generate Kernel Density Estimate plot using Gaussian kernels.\n",
    "ax.legend()"
   ]
  },
  {
   "cell_type": "markdown",
   "metadata": {},
   "source": [
    "**What can you conclude from the figure. Explain.**"
   ]
  },
  {
   "cell_type": "markdown",
   "metadata": {},
   "source": [
    "\n",
    "Observation: We can see that young adult drivers in their early to mid twenties are the likelist to be pulled over. There is a sharp decline in stop rate from the mid twenties to early thirties. At their peak, around age 23, hipanic and black drivers are the most likely race to be pulled over while white drivers are the least likely. However most interestingly, at the ages of 40-70 white and asians drivers are the most likely to be pulled over. "
   ]
  },
  {
   "cell_type": "markdown",
   "metadata": {},
   "source": [
    "### Question 4 (5)"
   ]
  },
  {
   "cell_type": "code",
   "execution_count": 39,
   "metadata": {},
   "outputs": [],
   "source": [
    "def compute_outcome_stats(df):\n",
    "#Compute statistics regarding the relative quanties of arrests, warnings, and citations\"\n",
    "    n_total = len(df)\n",
    "    n_warnings = len(df[df['outcome'] == 'warning'])\n",
    "    n_citations = len(df[df['outcome'] == 'citation'])\n",
    "    n_arrests = len(df[df['outcome'] == 'arrest'])\n",
    "    citations_per_warning = 1.0 * n_citations / n_warnings\n",
    "    arrest_rate = 1.0 * n_arrests / n_total\n",
    "\n",
    "#the function should return\n",
    "    return(pd.Series(data = {\n",
    "        'n_total': n_total,\n",
    "        'n_warnings': n_warnings,\n",
    "        'n_citations': n_citations,\n",
    "        'n_arrests': n_arrests,\n",
    "        'citations_per_warning': citations_per_warning,\n",
    "        'arrest_rate': arrest_rate\n",
    "    }))"
   ]
  },
  {
   "cell_type": "code",
   "execution_count": 40,
   "metadata": {},
   "outputs": [
    {
     "data": {
      "text/plain": [
       "arrest_rate                  0.15944\n",
       "citations_per_warning        1.85977\n",
       "n_arrests                 6549.00000\n",
       "n_citations              22453.00000\n",
       "n_total                  41075.00000\n",
       "n_warnings               12073.00000\n",
       "dtype: float64"
      ]
     },
     "execution_count": 40,
     "metadata": {},
     "output_type": "execute_result"
    }
   ],
   "source": [
    "# call this function on the dataframe to see the results\n",
    "compute_outcome_stats(sfo)"
   ]
  },
  {
   "cell_type": "markdown",
   "metadata": {},
   "source": [
    "### Optional Question (EC 2pts) "
   ]
  },
  {
   "cell_type": "code",
   "execution_count": null,
   "metadata": {},
   "outputs": [],
   "source": [
    "# Show one specific illustration of your choice that might bring out any kind of dusparities \n",
    "# exist in the dataset\n",
    "# you have to explore this aspect on your own.\n",
    "# You are recommended to use a bar or scatter plot to answer this question."
   ]
  },
  {
   "cell_type": "code",
   "execution_count": 41,
   "metadata": {},
   "outputs": [
    {
     "data": {
      "text/plain": [
       "<matplotlib.axes._subplots.AxesSubplot at 0x123e34e10>"
      ]
     },
     "execution_count": 41,
     "metadata": {},
     "output_type": "execute_result"
    },
    {
     "data": {
      "image/png": "[encoded data removed]",
      "text/plain": [
       "<Figure size 1152x576 with 2 Axes>"
      ]
     },
     "metadata": {
      "needs_background": "light"
     },
     "output_type": "display_data"
    }
   ],
   "source": [
    "race_agg = sfo.groupby(['subject_race']).apply(compute_outcome_stats)\n",
    "fig, axes = plt.subplots(nrows=2, ncols=1, figsize=figsize)\n",
    "race_agg['citations_per_warning'].plot.barh(ax=axes[0], figsize=figsize, title=\"Citation Rate By Race\")\n",
    "race_agg['arrest_rate'].plot.barh(ax=axes[1], figsize=figsize, title='Arrest Rate By Race')"
   ]
  }
 ],
 "metadata": {
  "kernelspec": {
   "display_name": "Python 2",
   "language": "python",
   "name": "python2"
  },
  "language_info": {
   "codemirror_mode": {
    "name": "ipython",
    "version": 2
   },
   "file_extension": ".py",
   "mimetype": "text/x-python",
   "name": "python",
   "nbconvert_exporter": "python",
   "pygments_lexer": "ipython2",
   "version": "2.7.17"
  }
 },
 "nbformat": 4,
 "nbformat_minor": 2
}
